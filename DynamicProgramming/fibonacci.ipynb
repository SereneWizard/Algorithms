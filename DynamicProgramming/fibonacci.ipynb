{
 "cells": [
  {
   "cell_type": "markdown",
   "metadata": {},
   "source": [
    "# Fibonacci \n",
    "\n",
    "Given an integer n, write a function that will return the nth Fibonacci number. \n",
    "\n",
    "**Example:**\n",
    "\n",
    "\\begin{align}\n",
    "fib(0) & = 0 \\\\\n",
    "fib(1) & = 1 \\\\\n",
    "fib(2) & = 1 \\\\\n",
    "fib(5) & = 5 \\\\\n",
    "fib(10)& = 55\n",
    "\\end{align}\n"
   ]
  },
  {
   "cell_type": "code",
   "execution_count": 1,
   "metadata": {},
   "outputs": [],
   "source": [
    "def bruteForceFibonacci(n):\n",
    "    if n == 0:\n",
    "        return 0\n",
    "    if n == 1:\n",
    "        return 1\n",
    "    return bruteForceFibonacci(n-1) + bruteForceFibonacci(n - 2)"
   ]
  },
  {
   "cell_type": "code",
   "execution_count": 9,
   "metadata": {},
   "outputs": [
    {
     "data": {
      "text/plain": [
       "['fib(0)=0',\n",
       " 'fib(1)=1',\n",
       " 'fib(2)=1',\n",
       " 'fib(3)=2',\n",
       " 'fib(4)=3',\n",
       " 'fib(5)=5',\n",
       " 'fib(6)=8',\n",
       " 'fib(7)=13',\n",
       " 'fib(8)=21',\n",
       " 'fib(9)=34',\n",
       " 'fib(10)=55']"
      ]
     },
     "execution_count": 9,
     "metadata": {},
     "output_type": "execute_result"
    }
   ],
   "source": [
    "[\"fib({0})={1}\".format(n, bruteForceFibonacci(n)) for n in range(11)]"
   ]
  },
  {
   "cell_type": "code",
   "execution_count": 10,
   "metadata": {},
   "outputs": [
    {
     "name": "stdout",
     "output_type": "stream",
     "text": [
      "60.7 µs ± 1.48 µs per loop (mean ± std. dev. of 7 runs, 10000 loops each)\n"
     ]
    }
   ],
   "source": [
    "%timeit [\"fib({0})={1}\".format(n, bruteForceFibonacci(n)) for n in range(11)]"
   ]
  },
  {
   "cell_type": "code",
   "execution_count": 12,
   "metadata": {},
   "outputs": [],
   "source": [
    "def topDownFibonacci(n):\n",
    "    dp = [0] * (n + 1)\n",
    "    return topDownFibHelper(n, dp)\n",
    "\n",
    "def topDownFibHelper( n,  dp ):\n",
    "    if n == 0:\n",
    "        return 0\n",
    "    if n == 1:\n",
    "        return 1\n",
    "    if ( dp[n] == 0 ): # i.e fib(n) is not computed \n",
    "        dp[n] = topDownFibHelper(n-1, dp) + topDownFibHelper(n-2, dp)\n",
    "    return dp[n]"
   ]
  },
  {
   "cell_type": "code",
   "execution_count": 13,
   "metadata": {},
   "outputs": [
    {
     "data": {
      "text/plain": [
       "['fib(0)=0',\n",
       " 'fib(1)=1',\n",
       " 'fib(2)=1',\n",
       " 'fib(3)=2',\n",
       " 'fib(4)=3',\n",
       " 'fib(5)=5',\n",
       " 'fib(6)=8',\n",
       " 'fib(7)=13',\n",
       " 'fib(8)=21',\n",
       " 'fib(9)=34',\n",
       " 'fib(10)=55']"
      ]
     },
     "execution_count": 13,
     "metadata": {},
     "output_type": "execute_result"
    }
   ],
   "source": [
    "[\"fib({0})={1}\".format(n, topDownFibonacci(n)) for n in range(11)]"
   ]
  },
  {
   "cell_type": "code",
   "execution_count": 14,
   "metadata": {},
   "outputs": [
    {
     "name": "stdout",
     "output_type": "stream",
     "text": [
      "24.4 µs ± 1.04 µs per loop (mean ± std. dev. of 7 runs, 10000 loops each)\n"
     ]
    }
   ],
   "source": [
    "%timeit [\"fib({0})={1}\".format(n, topDownFibonacci(n)) for n in range(11)]"
   ]
  },
  {
   "cell_type": "code",
   "execution_count": 16,
   "metadata": {},
   "outputs": [],
   "source": [
    "def fib(n):\n",
    "    t_1, t_2 = 0, 1\n",
    "    if n == 0:\n",
    "        return t_1\n",
    "    if n == 1:\n",
    "        return t_2\n",
    "    \n",
    "    for x in range(2, n + 1):\n",
    "        res = t_1 + t_2\n",
    "        t_1 = t_2\n",
    "        t_2 = res\n",
    "        \n",
    "    return res\n",
    "    "
   ]
  },
  {
   "cell_type": "code",
   "execution_count": 17,
   "metadata": {},
   "outputs": [
    {
     "data": {
      "text/plain": [
       "['fib(0)=0',\n",
       " 'fib(1)=1',\n",
       " 'fib(2)=1',\n",
       " 'fib(3)=2',\n",
       " 'fib(4)=3',\n",
       " 'fib(5)=5',\n",
       " 'fib(6)=8',\n",
       " 'fib(7)=13',\n",
       " 'fib(8)=21',\n",
       " 'fib(9)=34',\n",
       " 'fib(10)=55']"
      ]
     },
     "execution_count": 17,
     "metadata": {},
     "output_type": "execute_result"
    }
   ],
   "source": [
    "[\"fib({0})={1}\".format(n, fib(n)) for n in range(11)]"
   ]
  },
  {
   "cell_type": "code",
   "execution_count": 18,
   "metadata": {},
   "outputs": [
    {
     "name": "stdout",
     "output_type": "stream",
     "text": [
      "7.1 µs ± 49.9 ns per loop (mean ± std. dev. of 7 runs, 100000 loops each)\n"
     ]
    }
   ],
   "source": [
    "%timeit [\"fib({0})={1}\".format(n, fib(n)) for n in range(11)]"
   ]
  },
  {
   "cell_type": "code",
   "execution_count": null,
   "metadata": {},
   "outputs": [],
   "source": []
  }
 ],
 "metadata": {
  "kernelspec": {
   "display_name": "Python 3",
   "language": "python",
   "name": "python3"
  },
  "language_info": {
   "codemirror_mode": {
    "name": "ipython",
    "version": 3
   },
   "file_extension": ".py",
   "mimetype": "text/x-python",
   "name": "python",
   "nbconvert_exporter": "python",
   "pygments_lexer": "ipython3",
   "version": "3.6.3"
  }
 },
 "nbformat": 4,
 "nbformat_minor": 2
}
