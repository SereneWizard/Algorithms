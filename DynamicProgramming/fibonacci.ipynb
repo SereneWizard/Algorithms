{
 "cells": [
  {
   "cell_type": "markdown",
   "metadata": {},
   "source": [
    "# Fibonacci \n",
    "\n",
    "Given an integer n, write a function that will return the nth Fibonacci number. \n",
    "\n",
    "**Example:**\n",
    "\n",
    "\\begin{align}\n",
    "fib(0) & = 0 \\\\\n",
    "fib(1) & = 1 \\\\\n",
    "fib(2) & = 1 \\\\\n",
    "fib(5) & = 5 \\\\\n",
    "fib(10)& = 55\n",
    "\\end{align}\n"
   ]
  },
  {
   "cell_type": "code",
   "execution_count": 4,
   "metadata": {},
   "outputs": [],
   "source": [
    "def bruteForceFibonacci(n):\n",
    "    if n == 0:\n",
    "        return 0\n",
    "    if n == 1:\n",
    "        return 1\n",
    "    return bruteForceFibonacci(n-1) + bruteForceFibonacci(n - 2)"
   ]
  },
  {
   "cell_type": "code",
   "execution_count": 6,
   "metadata": {},
   "outputs": [
    {
     "data": {
      "text/plain": [
       "[(0, 0),\n",
       " (1, 1),\n",
       " (2, 1),\n",
       " (3, 2),\n",
       " (4, 3),\n",
       " (5, 5),\n",
       " (6, 8),\n",
       " (7, 13),\n",
       " (8, 21),\n",
       " (9, 34),\n",
       " (10, 55)]"
      ]
     },
     "execution_count": 6,
     "metadata": {},
     "output_type": "execute_result"
    }
   ],
   "source": [
    "[(n, bruteForceFibonacci(n)) for n in range(11)]"
   ]
  },
  {
   "cell_type": "code",
   "execution_count": 10,
   "metadata": {},
   "outputs": [
    {
     "name": "stdout",
     "output_type": "stream",
     "text": [
      "55.3 µs ± 867 ns per loop (mean ± std. dev. of 7 runs, 10000 loops each)\n"
     ]
    }
   ],
   "source": [
    "%timeit [(n, bruteForceFibonacci(n)) for n in range(11)]"
   ]
  },
  {
   "cell_type": "code",
   "execution_count": 7,
   "metadata": {},
   "outputs": [],
   "source": [
    "def topDownFibonacci(n):\n",
    "    dp = [0] * (n + 1)\n",
    "    return topDownFibHelper(n, dp)\n",
    "\n",
    "def topDownFibHelper( n,  dp ):\n",
    "    if n == 0:\n",
    "        return 0\n",
    "    if n == 1:\n",
    "        return 1\n",
    "    if ( dp[n] == 0 ): # i.e fib(n) is not computed \n",
    "        dp[n] = topDownFibHelper(n-1, dp) + topDownFibHelper(n-2, dp)\n",
    "    return dp[n]"
   ]
  },
  {
   "cell_type": "code",
   "execution_count": 8,
   "metadata": {},
   "outputs": [
    {
     "data": {
      "text/plain": [
       "[(0, 0),\n",
       " (1, 1),\n",
       " (2, 1),\n",
       " (3, 2),\n",
       " (4, 3),\n",
       " (5, 5),\n",
       " (6, 8),\n",
       " (7, 13),\n",
       " (8, 21),\n",
       " (9, 34),\n",
       " (10, 55)]"
      ]
     },
     "execution_count": 8,
     "metadata": {},
     "output_type": "execute_result"
    }
   ],
   "source": [
    "[(n, topDownFibonacci(n)) for n in range(11)]"
   ]
  },
  {
   "cell_type": "code",
   "execution_count": 9,
   "metadata": {},
   "outputs": [
    {
     "name": "stdout",
     "output_type": "stream",
     "text": [
      "21.8 µs ± 652 ns per loop (mean ± std. dev. of 7 runs, 10000 loops each)\n"
     ]
    }
   ],
   "source": [
    "%timeit [(n, topDownFibonacci(n)) for n in range(11)]"
   ]
  },
  {
   "cell_type": "code",
   "execution_count": 16,
   "metadata": {},
   "outputs": [],
   "source": [
    "def fib(n):\n",
    "    t_1, t_2 = 0, 1\n",
    "    if n == 0:\n",
    "        return t_1\n",
    "    if n == 1:\n",
    "        return t_2\n",
    "    \n",
    "    for x in range(2, n + 1):\n",
    "        res = t_1 + t_2\n",
    "        t_1 = t_2\n",
    "        t_2 = res\n",
    "        \n",
    "    return res\n",
    "    "
   ]
  },
  {
   "cell_type": "code",
   "execution_count": 18,
   "metadata": {},
   "outputs": [
    {
     "data": {
      "text/plain": [
       "[(0, 0),\n",
       " (1, 1),\n",
       " (2, 1),\n",
       " (3, 2),\n",
       " (4, 3),\n",
       " (5, 5),\n",
       " (6, 8),\n",
       " (7, 13),\n",
       " (8, 21),\n",
       " (9, 34),\n",
       " (10, 55)]"
      ]
     },
     "execution_count": 18,
     "metadata": {},
     "output_type": "execute_result"
    }
   ],
   "source": [
    "[(x, fib(x)) for x in range(11)]"
   ]
  },
  {
   "cell_type": "code",
   "execution_count": 19,
   "metadata": {},
   "outputs": [
    {
     "name": "stdout",
     "output_type": "stream",
     "text": [
      "6.11 µs ± 85.8 ns per loop (mean ± std. dev. of 7 runs, 100000 loops each)\n"
     ]
    }
   ],
   "source": [
    "%timeit [(x, fib(x)) for x in range(11)]"
   ]
  },
  {
   "cell_type": "code",
   "execution_count": null,
   "metadata": {},
   "outputs": [],
   "source": []
  }
 ],
 "metadata": {
  "kernelspec": {
   "display_name": "Python 3",
   "language": "python",
   "name": "python3"
  },
  "language_info": {
   "codemirror_mode": {
    "name": "ipython",
    "version": 3
   },
   "file_extension": ".py",
   "mimetype": "text/x-python",
   "name": "python",
   "nbconvert_exporter": "python",
   "pygments_lexer": "ipython3",
   "version": "3.6.3"
  }
 },
 "nbformat": 4,
 "nbformat_minor": 2
}
