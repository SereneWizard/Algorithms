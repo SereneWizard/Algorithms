{
 "cells": [
  {
   "cell_type": "markdown",
   "metadata": {},
   "source": [
    "# Making change : Minimum coin change\n",
    "\n",
    "Given an integer representing a given amount of change, write a function to compute the minimum number of coins required to make that amount of change. \n",
    "\n",
    "Example: (Assuming American coins: 1, 5, 10 and 25 cents)\n",
    "* minCoins([1,5, 10, 25], 1) = 1 $\\to$ 1\n",
    "* minCoins([1,5, 10, 25], 6) = 2 $\\to$ 1 + 5\n",
    "* minCoins([1,5, 10, 25], 49) = 5 $\\to$ 25 + 10 + 10 + 1 + 1 + 1 + 1\n",
    "\n",
    "Lets say amount of change is 6. Then find minCoins([1, 5, 10, 25], 6)\n",
    "* include 1 $\\to$ minCoins([1,5, 10, 25], 6-1) = 1 + minCoins([1,5, 10, 25], 5)\n",
    "* do this for every coin denomination and keep track of minimum coin change\n",
    "* base case : if amount == 0 then return 0 i.e there is 0 ways to make 0"
   ]
  },
  {
   "cell_type": "code",
   "execution_count": 32,
   "metadata": {},
   "outputs": [],
   "source": [
    "# Brute force solution\n",
    "def bf_MinCoin(denomination, amount):\n",
    "    if (amount == 0):\n",
    "        return 0\n",
    "    \n",
    "    minCoin = float(\"inf\")\n",
    "    \n",
    "    for coin in denomination:\n",
    "        remaining_amount = amount - coin\n",
    "        if ( remaining_amount >= 0 ):\n",
    "            currMin = bf_MinCoin(denomination, remaining_amount)\n",
    "            minCoin =  min(currMin, minCoin)\n",
    "    \n",
    "    return minCoin + 1\n",
    "            "
   ]
  },
  {
   "cell_type": "code",
   "execution_count": 30,
   "metadata": {},
   "outputs": [
    {
     "data": {
      "text/plain": [
       "7"
      ]
     },
     "execution_count": 30,
     "metadata": {},
     "output_type": "execute_result"
    }
   ],
   "source": [
    "bf_MinCoin([1, 5, 10, 25],49)"
   ]
  },
  {
   "cell_type": "code",
   "execution_count": 31,
   "metadata": {},
   "outputs": [
    {
     "data": {
      "text/plain": [
       "5"
      ]
     },
     "execution_count": 31,
     "metadata": {},
     "output_type": "execute_result"
    }
   ],
   "source": [
    "bf_MinCoin([1, 5, 10, 25],47)"
   ]
  },
  {
   "cell_type": "code",
   "execution_count": 37,
   "metadata": {},
   "outputs": [],
   "source": [
    "# Top down\n",
    "\n",
    "def topDown_MinCoin(denomination, amount):\n",
    "    df = dict()\n",
    "    return topDown_helper(denomination, amount, df)\n",
    "\n",
    "def topDown_helper(denomination, amount, df):\n",
    "    # Base case\n",
    "    if (amount == 0):\n",
    "        return 0\n",
    "    \n",
    "    # hk is key for dictionary\n",
    "    hk = str(amount)\n",
    "    \n",
    "    minCoin = float(\"inf\")\n",
    "    \n",
    "    if (hk not in df):\n",
    "        for coin in denomination:\n",
    "            remaining_amount = amount - coin\n",
    "            if ( remaining_amount >= 0):\n",
    "                currMin = topDown_helper(denomination, remaining_amount, df)\n",
    "                minCoin = min(currMin, minCoin)\n",
    "        df[hk] = minCoin + 1\n",
    "    \n",
    "    return df[hk]\n",
    "        "
   ]
  },
  {
   "cell_type": "code",
   "execution_count": 38,
   "metadata": {},
   "outputs": [
    {
     "data": {
      "text/plain": [
       "5"
      ]
     },
     "execution_count": 38,
     "metadata": {},
     "output_type": "execute_result"
    }
   ],
   "source": [
    "topDown_MinCoin([1, 5, 10, 25],47)"
   ]
  },
  {
   "cell_type": "code",
   "execution_count": 39,
   "metadata": {},
   "outputs": [
    {
     "data": {
      "text/plain": [
       "7"
      ]
     },
     "execution_count": 39,
     "metadata": {},
     "output_type": "execute_result"
    }
   ],
   "source": [
    "topDown_MinCoin([1, 5, 10, 25],49)"
   ]
  }
 ],
 "metadata": {
  "kernelspec": {
   "display_name": "Python 3",
   "language": "python",
   "name": "python3"
  },
  "language_info": {
   "codemirror_mode": {
    "name": "ipython",
    "version": 3
   },
   "file_extension": ".py",
   "mimetype": "text/x-python",
   "name": "python",
   "nbconvert_exporter": "python",
   "pygments_lexer": "ipython3",
   "version": "3.6.4"
  }
 },
 "nbformat": 4,
 "nbformat_minor": 2
}
