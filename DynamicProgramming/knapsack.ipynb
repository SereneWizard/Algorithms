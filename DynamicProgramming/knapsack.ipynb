{
 "cells": [
  {
   "cell_type": "markdown",
   "metadata": {},
   "source": [
    "# 0-1 Knapsack\n",
    "Given a list of items with values and weights, as well as a max weight, \n",
    "find the maximum value you can generate from items, where the sum of the \n",
    "weights is less than or equal to the max.\n",
    "\n",
    "**Example:**\n",
    "\n",
    "* itemList = {Item(w:1, v:6), Item(w:2, v:10), Item(w:3, v:12)}\n",
    "* maxWeight = 5\n",
    "* knapsack(itemList, maxWeight) = 22\n",
    "\n",
    "**Idea for solution:**\n",
    "\n",
    "* knapsack($[I_1, I_2, I_3]$, maxW) \n",
    "* We can either include $I_1$ or exclude $I_2$. \n",
    "* An item cannot be included if the weight of that item is greater tha maxW\n",
    "* if an item is included then the problem reduces to $$include = knapsack([I_2, I_3], maxW - I_1) + I_1.value$$ and \n",
    "* if an item is exclude then the problem reduces to $$exclude = knapsack([I_2, I_3], maxW)$$\n",
    "* result = max(include, exclude)\n",
    "* base case, when there are no items res = 0\n",
    "\n",
    "## Implementation:"
   ]
  },
  {
   "cell_type": "code",
   "execution_count": 8,
   "metadata": {},
   "outputs": [],
   "source": [
    "class Item():\n",
    "    def __init__(self, weight, value):\n",
    "        self.weight = weight\n",
    "        self.value = value\n",
    "        \n",
    "    def __repr__(self):\n",
    "        return \"Item(w:{0}, v:{1})\".format(self.weight, self.value)"
   ]
  },
  {
   "cell_type": "code",
   "execution_count": 9,
   "metadata": {},
   "outputs": [
    {
     "data": {
      "text/plain": [
       "Item(w:1, v:2)"
      ]
     },
     "execution_count": 9,
     "metadata": {},
     "output_type": "execute_result"
    }
   ],
   "source": [
    "Item(1,2)"
   ]
  },
  {
   "cell_type": "code",
   "execution_count": 11,
   "metadata": {},
   "outputs": [
    {
     "name": "stdout",
     "output_type": "stream",
     "text": [
      "[Item(w:1, v:6), Item(w:2, v:10), Item(w:3, v:12)]\n"
     ]
    }
   ],
   "source": [
    "itemList = [Item(1,6), Item(2, 10), Item(3, 12)]\n",
    "print (itemList)"
   ]
  },
  {
   "cell_type": "code",
   "execution_count": 25,
   "metadata": {},
   "outputs": [],
   "source": [
    "# Brute force solution:\n",
    "\n",
    "def bruteForceKnapsack(elems, maxWeight):\n",
    "    return bruteForceKnapsackHelper(elems, maxWeight, 0)\n",
    "\n",
    "def bruteForceKnapsackHelper(elems, maxWeight, i):\n",
    "    if (i == len(elems)):\n",
    "        return 0\n",
    "    \n",
    "    ithElem = elems[i]\n",
    "    \n",
    "    exclude = bruteForceKnapsackHelper(elems, maxWeight, i + 1)\n",
    "    \n",
    "    if ithElem.weight > maxWeight:\n",
    "        # if the weight of ith item is greater than max weight then exclude that item \n",
    "        return exclude\n",
    "        #return bruteForceKnapsackHelper(elems, maxWeight, i+1)\n",
    "    \n",
    "    include = bruteForceKnapsackHelper(elems, maxWeight - ithElem.weight, i + 1) + ithElem.value\n",
    "    # exclude = bruteForceKnapsackHelper(elems, maxWeight, i + 1)\n",
    "        \n",
    "    return max(include, exclude)"
   ]
  },
  {
   "cell_type": "code",
   "execution_count": 30,
   "metadata": {},
   "outputs": [
    {
     "data": {
      "text/plain": [
       "22"
      ]
     },
     "execution_count": 30,
     "metadata": {},
     "output_type": "execute_result"
    }
   ],
   "source": [
    "bruteForceKnapsack(itemList, 5)"
   ]
  },
  {
   "cell_type": "code",
   "execution_count": 27,
   "metadata": {},
   "outputs": [],
   "source": [
    "# Top down appproach\n",
    "\n",
    "def topDownKnapsack(elems, maxWeight):\n",
    "    dp = dict()\n",
    "    return topDownKnapsackHelper(elems, maxWeight, 0, dp)\n",
    "\n",
    "def topDownKnapsackHelper(elems, maxWeight, i , dp):\n",
    "    if ( i == len(elems) ):\n",
    "        return 0\n",
    "    \n",
    "    ithElem = elems[i]\n",
    "    \n",
    "    hashkey = \"{0}-{1}\".format(maxWeight, i)\n",
    "    \n",
    "    if hashkey not in dp:\n",
    "        exclude = topDownKnapsackHelper(elems, maxWeight, i + 1, dp)\n",
    "        \n",
    "        if ithElem.weight > maxWeight:\n",
    "            dp[hashkey] = exclude\n",
    "        \n",
    "        else:\n",
    "            include = topDownKnapsackHelper(elems, maxWeight - ithElem.weight, i + 1, dp ) + ithElem.value\n",
    "            dp[hashkey] = max(include, exclude)\n",
    "    \n",
    "    return dp[hashkey]"
   ]
  },
  {
   "cell_type": "markdown",
   "metadata": {},
   "source": [
    "## Test cases"
   ]
  },
  {
   "cell_type": "code",
   "execution_count": 40,
   "metadata": {},
   "outputs": [
    {
     "data": {
      "text/plain": [
       "[Item(w:1, v:6), Item(w:2, v:10), Item(w:3, v:12)]"
      ]
     },
     "execution_count": 40,
     "metadata": {},
     "output_type": "execute_result"
    }
   ],
   "source": [
    "itemList"
   ]
  },
  {
   "cell_type": "code",
   "execution_count": 36,
   "metadata": {},
   "outputs": [
    {
     "data": {
      "text/plain": [
       "True"
      ]
     },
     "execution_count": 36,
     "metadata": {},
     "output_type": "execute_result"
    }
   ],
   "source": [
    "topDownKnapsack(itemList, 5) == 22"
   ]
  },
  {
   "cell_type": "code",
   "execution_count": 33,
   "metadata": {},
   "outputs": [
    {
     "name": "stdout",
     "output_type": "stream",
     "text": [
      "[Item(w:4, v:5), Item(w:1, v:8), Item(w:2, v:4), Item(w:3, v:0), Item(w:2, v:5), Item(w:2, v:3)]\n"
     ]
    }
   ],
   "source": [
    "itemList2 = [Item(4, 5),Item(1, 8),Item(2, 4),Item(3, 0),Item(2, 5),Item(2, 3)]\n",
    "print( itemList2 )"
   ]
  },
  {
   "cell_type": "code",
   "execution_count": 37,
   "metadata": {},
   "outputs": [
    {
     "data": {
      "text/plain": [
       "True"
      ]
     },
     "execution_count": 37,
     "metadata": {},
     "output_type": "execute_result"
    }
   ],
   "source": [
    "topDownKnapsack(itemList2, 8) == 20"
   ]
  },
  {
   "cell_type": "code",
   "execution_count": 39,
   "metadata": {},
   "outputs": [
    {
     "data": {
      "text/plain": [
       "True"
      ]
     },
     "execution_count": 39,
     "metadata": {},
     "output_type": "execute_result"
    }
   ],
   "source": [
    "topDownKnapsack([], 5) == 0"
   ]
  }
 ],
 "metadata": {
  "kernelspec": {
   "display_name": "Python 3",
   "language": "python",
   "name": "python3"
  },
  "language_info": {
   "codemirror_mode": {
    "name": "ipython",
    "version": 3
   },
   "file_extension": ".py",
   "mimetype": "text/x-python",
   "name": "python",
   "nbconvert_exporter": "python",
   "pygments_lexer": "ipython3",
   "version": "3.6.4"
  }
 },
 "nbformat": 4,
 "nbformat_minor": 2
}
