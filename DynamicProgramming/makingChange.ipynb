{
 "cells": [
  {
   "cell_type": "markdown",
   "metadata": {},
   "source": [
    "# Making Change\n",
    "\n",
    "Write a function that given:\n",
    "\n",
    "* an amount of money\n",
    "* a list of coin denomination \n",
    "\n",
    "compute the number of ways to make the amount of money with coins of the available denominations. \n",
    "\n",
    "Example: for amount = 4 cents and denomination = [1,2,3] , your program output 4 ways to make 4 cents with those denomination. \n",
    "\n",
    "* makeChange([1,2,3], 4) $\\to$ [1,1,1,1], [1, 3], [1,1,2], [2,2]\n",
    "* include 1 $\\to$ makeChange([1,2,3], 3)\n",
    "* exclude 1 $\\to$ makeChange([2,3], 4)\n",
    "* result = include + exclude\n",
    "* basecase: if amount = 0 then 1 and makeChange([], n) = 0"
   ]
  },
  {
   "cell_type": "code",
   "execution_count": 32,
   "metadata": {},
   "outputs": [],
   "source": [
    "# Brute force solution\n",
    "\n",
    "def bf_MakingChange(denomination, amount):\n",
    "    return bf_helper(denomination, amount, 0)\n",
    "\n",
    "def bf_helper(denomination, amount, i):\n",
    "    \n",
    "    if (amount == 0):\n",
    "        return 1\n",
    "    \n",
    "    if (i >= len(denomination) or amount < 0):\n",
    "        return 0\n",
    "    # print(\"here\")\n",
    "    include = bf_helper(denomination, amount - denomination[i], i )\n",
    "    exclude = bf_helper(denomination, amount, i + 1)\n",
    "    return include + exclude \n",
    "    "
   ]
  },
  {
   "cell_type": "code",
   "execution_count": 21,
   "metadata": {},
   "outputs": [
    {
     "data": {
      "text/plain": [
       "56"
      ]
     },
     "execution_count": 21,
     "metadata": {},
     "output_type": "execute_result"
    }
   ],
   "source": [
    "bf_MakingChange([20, 10, 5, 1], 50)"
   ]
  },
  {
   "cell_type": "code",
   "execution_count": 30,
   "metadata": {},
   "outputs": [],
   "source": [
    "# Top-Down using dictionary\n",
    "\n",
    "def topDown_MakingChange(denomination, amount):\n",
    "    dp = dict()\n",
    "    return topDown_helper(denomination, amount, 0, dp)\n",
    "\n",
    "def topDown_helper(denomination, amount, i, dp ):\n",
    "    \n",
    "    if( amount == 0):\n",
    "        return 1\n",
    "    \n",
    "    if ( i >= len(denomination) or amount < 0):\n",
    "        return 0\n",
    "    \n",
    "    # key for dictionary\n",
    "    hk = \"{0}-{1}\".format(amount, i)\n",
    "    \n",
    "    if (hk not in dp):\n",
    "        # print(\"here\")\n",
    "        remaining_amount = amount - denomination[i]\n",
    "        include = topDown_helper(denomination, remaining_amount, i, dp)\n",
    "        exclude = topDown_helper(denomination, amount, i + 1, dp)\n",
    "        dp[hk] = include + exclude\n",
    "    \n",
    "    return dp[hk]"
   ]
  },
  {
   "cell_type": "code",
   "execution_count": 22,
   "metadata": {},
   "outputs": [
    {
     "data": {
      "text/plain": [
       "56"
      ]
     },
     "execution_count": 22,
     "metadata": {},
     "output_type": "execute_result"
    }
   ],
   "source": [
    "topDown_MakingChange([20, 10, 5, 1], 50)"
   ]
  },
  {
   "cell_type": "code",
   "execution_count": 23,
   "metadata": {},
   "outputs": [
    {
     "name": "stdout",
     "output_type": "stream",
     "text": [
      "69.8 µs ± 2.41 µs per loop (mean ± std. dev. of 7 runs, 10000 loops each)\n"
     ]
    }
   ],
   "source": [
    "%timeit topDown_MakingChange([20, 10, 5, 1], 50)"
   ]
  },
  {
   "cell_type": "code",
   "execution_count": 25,
   "metadata": {},
   "outputs": [
    {
     "name": "stdout",
     "output_type": "stream",
     "text": [
      "353 µs ± 16.5 µs per loop (mean ± std. dev. of 7 runs, 1000 loops each)\n"
     ]
    }
   ],
   "source": [
    "%timeit bf_MakingChange([20, 10, 5, 1], 50)"
   ]
  },
  {
   "cell_type": "code",
   "execution_count": 26,
   "metadata": {},
   "outputs": [
    {
     "data": {
      "text/plain": [
       "4"
      ]
     },
     "execution_count": 26,
     "metadata": {},
     "output_type": "execute_result"
    }
   ],
   "source": [
    "topDown_MakingChange([1,2,3], 4)"
   ]
  },
  {
   "cell_type": "code",
   "execution_count": 27,
   "metadata": {},
   "outputs": [
    {
     "data": {
      "text/plain": [
       "4"
      ]
     },
     "execution_count": 27,
     "metadata": {},
     "output_type": "execute_result"
    }
   ],
   "source": [
    "bf_MakingChange([1,2,3], 4)"
   ]
  },
  {
   "cell_type": "code",
   "execution_count": 28,
   "metadata": {},
   "outputs": [
    {
     "name": "stdout",
     "output_type": "stream",
     "text": [
      "7.19 µs ± 307 ns per loop (mean ± std. dev. of 7 runs, 100000 loops each)\n"
     ]
    }
   ],
   "source": [
    "%timeit bf_MakingChange([1,2,3], 4)"
   ]
  },
  {
   "cell_type": "code",
   "execution_count": 29,
   "metadata": {},
   "outputs": [
    {
     "name": "stdout",
     "output_type": "stream",
     "text": [
      "11.5 µs ± 104 ns per loop (mean ± std. dev. of 7 runs, 100000 loops each)\n"
     ]
    }
   ],
   "source": [
    "%timeit topDown_MakingChange([1,2,3], 4)"
   ]
  }
 ],
 "metadata": {
  "kernelspec": {
   "display_name": "Python 3",
   "language": "python",
   "name": "python3"
  },
  "language_info": {
   "codemirror_mode": {
    "name": "ipython",
    "version": 3
   },
   "file_extension": ".py",
   "mimetype": "text/x-python",
   "name": "python",
   "nbconvert_exporter": "python",
   "pygments_lexer": "ipython3",
   "version": "3.6.4"
  }
 },
 "nbformat": 4,
 "nbformat_minor": 2
}
