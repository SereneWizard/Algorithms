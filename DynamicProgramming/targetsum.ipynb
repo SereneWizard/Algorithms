{
 "cells": [
  {
   "cell_type": "markdown",
   "metadata": {},
   "source": [
    "# Target Sum:\n",
    "Given an array of integers, $nums = [n_1, n_2, .., n_k]$ and a target value T, find the\n",
    "number of ways that you can add and subtract the values in\n",
    "nums to add up to T.\n",
    "\n",
    "**Example:**\n",
    "* nums = [1,2,3,4]\n",
    "* T = 0\n",
    "* 1 - 2 - 3 + 4 = 0\n",
    "* -1 + 2 + 3 - 4 = 0\n",
    "* targetSum(nums, target) = 2 →  [ 4+1-3-2 = 0, -1-4 + 2 + 3 = 0 ]\n",
    "\n",
    "So, there are 2 ways to add and subtract values in num = [1,2,3,4] so that they add up to 0. "
   ]
  },
  {
   "cell_type": "markdown",
   "metadata": {},
   "source": [
    "**Soution**\n",
    "\n",
    "Let targetSum(nums, T) return number of ways we can add and substract nums to add up to T. Then, \n",
    "\n",
    "* targetSum(nums = [1,2,3,4], T = 0) is same as finding out targetSum([2,3,4], T - nums[0] ) + targetSum([2,3,4] , T + nums[0] ) \n",
    "* Recursive solution: $$ targetSum(nums, T, i) = targetSum(nums, T - nums[i], i + 1) + targetSum(nums, T + nums[i], i +1 )$$\n",
    "* base case, when nums = [ ], then if T == 0 return 1 else return 0"
   ]
  },
  {
   "cell_type": "code",
   "execution_count": 20,
   "metadata": {},
   "outputs": [],
   "source": [
    "# Brute force solution\n",
    "def bruteForceTargetSum(nums, T):\n",
    "    return bruteForceTargetSumHelper3(nums, T, 0)\n",
    "\n",
    "def bruteForceTargetSumHelper(nums, T, i):\n",
    "    if (i >= len(nums)):\n",
    "        if( T == 0):\n",
    "            return 1\n",
    "        else:\n",
    "            return 0\n",
    "    \n",
    "    else:\n",
    "        x = nums[i]\n",
    "        include = bruteForceTargetSumHelper(nums, T - x, i + 1)\n",
    "        exclude = bruteForceTargetSumHelper(nums, T + x, i + 1)\n",
    "        return include + exclude"
   ]
  },
  {
   "cell_type": "code",
   "execution_count": 32,
   "metadata": {},
   "outputs": [
    {
     "data": {
      "text/plain": [
       "(3, 0, 2, 5)"
      ]
     },
     "execution_count": 32,
     "metadata": {},
     "output_type": "execute_result"
    }
   ],
   "source": [
    "bruteForceTargetSum([1,1,1], 1), bruteForceTargetSum([], 1), bruteForceTargetSum([1,2,3,4], 0),  bruteForceTargetSum([1,1,1,1,1], 3)"
   ]
  },
  {
   "cell_type": "code",
   "execution_count": 6,
   "metadata": {},
   "outputs": [],
   "source": [
    "# Top Down solution\n",
    "\n",
    "def topDownTargetSum(nums, T):\n",
    "    dp = dict()\n",
    "    return topDownTargetSumHelper(nums, T, 0,dp)\n",
    "\n",
    "def topDownTargetSumHelper(nums, T, i, dp):\n",
    "    if (i >= len(nums)):\n",
    "        if ( T == 0 ):\n",
    "            return 1\n",
    "        return 0\n",
    "    \n",
    "    hashKey = \"{0}-{1}\".format(T, i)\n",
    "    \n",
    "    if hashKey not in dp:\n",
    "        elem = nums[i]\n",
    "        include = topDownTargetSumHelper(nums, T - elem, i + 1, dp)\n",
    "        exclude = topDownTargetSumHelper(nums, T + elem, i + 1, dp)\n",
    "        dp[hashKey] = include + exclude\n",
    "    \n",
    "    return dp[hashKey]"
   ]
  },
  {
   "cell_type": "code",
   "execution_count": 33,
   "metadata": {},
   "outputs": [
    {
     "data": {
      "text/plain": [
       "(3, 0, 2, 5)"
      ]
     },
     "execution_count": 33,
     "metadata": {},
     "output_type": "execute_result"
    }
   ],
   "source": [
    "topDownTargetSum([1,1,1], 1), topDownTargetSum([], 1), topDownTargetSum([1,2,3,4], 0), topDownTargetSum([1,1,1,1,1], 3)"
   ]
  },
  {
   "cell_type": "code",
   "execution_count": 12,
   "metadata": {},
   "outputs": [],
   "source": [
    "class Solution: \n",
    "    \n",
    "    def findTargetSumWays(self, nums, S):\n",
    "        \"\"\"\n",
    "        :type nums: List[int]\n",
    "        :type S: int\n",
    "        :rtype: int\n",
    "        \"\"\"\n",
    "        dp = dict()\n",
    "        return self.helperFunction(nums, S, 0, dp)\n",
    "    \n",
    "    def helperFunction(self, nums, S, i, dp):\n",
    "        hashkey = \"{0}-{1}\".format(S, i)\n",
    "        \n",
    "        if (i >= len(nums)):\n",
    "            if (S == 0):\n",
    "                dp[hashkey] = 1\n",
    "            else:\n",
    "                dp[hashkey] = 0\n",
    "            \n",
    "            return dp[hashkey]\n",
    "         \n",
    "        if hashkey not in dp:\n",
    "            elem = nums[i]\n",
    "            include = self.helperFunction(nums, S - elem, i + 1, dp)\n",
    "            exclude = self.helperFunction(nums, S + elem, i + 1, dp)\n",
    "            dp[hashkey] = include + exclude\n",
    "            \n",
    "        return dp[hashkey]  "
   ]
  },
  {
   "cell_type": "code",
   "execution_count": 14,
   "metadata": {},
   "outputs": [],
   "source": [
    "s = Solution()"
   ]
  },
  {
   "cell_type": "code",
   "execution_count": 15,
   "metadata": {},
   "outputs": [
    {
     "data": {
      "text/plain": [
       "3"
      ]
     },
     "execution_count": 15,
     "metadata": {},
     "output_type": "execute_result"
    }
   ],
   "source": [
    "s.findTargetSumWays([1,1,1], 1)"
   ]
  },
  {
   "cell_type": "code",
   "execution_count": 19,
   "metadata": {},
   "outputs": [
    {
     "data": {
      "text/plain": [
       "(3, 0, 2, 5)"
      ]
     },
     "execution_count": 19,
     "metadata": {},
     "output_type": "execute_result"
    }
   ],
   "source": [
    "s.findTargetSumWays([1,1,1], 1),s.findTargetSumWays([], 1), s.findTargetSumWays([1,2,3,4], 0), s.findTargetSumWays([1,1,1,1,1], 3)"
   ]
  },
  {
   "cell_type": "code",
   "execution_count": 20,
   "metadata": {},
   "outputs": [
    {
     "data": {
      "text/plain": [
       "(3, 0, 2, 5)"
      ]
     },
     "execution_count": 20,
     "metadata": {},
     "output_type": "execute_result"
    }
   ],
   "source": [
    "topDownTargetSum([1,1,1], 1), topDownTargetSum([], 1), topDownTargetSum([1,2,3,4], 0), topDownTargetSum([1,1,1,1,1], 3)"
   ]
  }
 ],
 "metadata": {
  "kernelspec": {
   "display_name": "Python 3",
   "language": "python",
   "name": "python3"
  },
  "language_info": {
   "codemirror_mode": {
    "name": "ipython",
    "version": 3
   },
   "file_extension": ".py",
   "mimetype": "text/x-python",
   "name": "python",
   "nbconvert_exporter": "python",
   "pygments_lexer": "ipython3",
   "version": "3.6.3"
  }
 },
 "nbformat": 4,
 "nbformat_minor": 2
}
