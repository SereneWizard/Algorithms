{
 "cells": [
  {
   "cell_type": "markdown",
   "metadata": {},
   "source": [
    "# Binomial Coefficient\n",
    "\n",
    "Binomial Coefficient, C(n, k) is the number of ways we can choose a subset of *k* elements (disregarding their order) from a set consisting of *n* elements. It is also read ad \"n choose k\". Note: $ n \\geq k \\geq 0 $\n",
    "\n",
    "\n",
    "**Recursive solution**\n",
    "\n",
    "\\begin{align}\n",
    "C(n, k) &= C(n-1, k - 1) + C(n - 1, k)\\\\\n",
    "C(n, n) &= C(n, 0) = 1\n",
    "\\end{align}"
   ]
  },
  {
   "cell_type": "code",
   "execution_count": 11,
   "metadata": {},
   "outputs": [],
   "source": [
    "# brute force solution\n",
    "def bf_BinomialCoefficient(n, k):\n",
    "    if k == n or k == 0:\n",
    "        return 1\n",
    "    else:\n",
    "        include_n = bf_BinomialCoefficient(n - 1, k - 1) \n",
    "        exclude_n = bf_BinomialCoefficient(n - 1, k )\n",
    "        \n",
    "        return include_n + exclude_n\n",
    "        "
   ]
  },
  {
   "cell_type": "code",
   "execution_count": 18,
   "metadata": {},
   "outputs": [
    {
     "data": {
      "text/plain": [
       "[1, 4, 6, 4, 1]"
      ]
     },
     "execution_count": 18,
     "metadata": {},
     "output_type": "execute_result"
    }
   ],
   "source": [
    "list( map(lambda k: bf_BinomialCoefficient(4, k), [0,1,2,3,4]) )"
   ]
  },
  {
   "cell_type": "code",
   "execution_count": 21,
   "metadata": {},
   "outputs": [],
   "source": [
    "# dp solution using dictionary\n",
    "def topDown_BinomialCoefficient(n, k):\n",
    "    dp = dict()\n",
    "    return topDown_helper(n,k, dp)\n",
    "\n",
    "def topDown_helper(n, k, dp):\n",
    "    if n == k or k == 0:\n",
    "        return 1\n",
    "   \n",
    "    hk = \"{0}-{1}\".format(n, k)\n",
    "    \n",
    "    if hk not in dp:\n",
    "        include_n = topDown_helper(n - 1, k - 1, dp)\n",
    "        exclude_n = topDown_helper(n - 1, k, dp)\n",
    "        dp[hk] = include_n + exclude_n\n",
    "    \n",
    "    return dp[hk]"
   ]
  },
  {
   "cell_type": "code",
   "execution_count": 22,
   "metadata": {},
   "outputs": [
    {
     "data": {
      "text/plain": [
       "[1, 4, 6, 4, 1]"
      ]
     },
     "execution_count": 22,
     "metadata": {},
     "output_type": "execute_result"
    }
   ],
   "source": [
    "list( map(lambda k: topDown_BinomialCoefficient(4, k), [0,1,2,3,4]) )"
   ]
  },
  {
   "cell_type": "code",
   "execution_count": 25,
   "metadata": {},
   "outputs": [
    {
     "name": "stdout",
     "output_type": "stream",
     "text": [
      "160 µs ± 2.3 µs per loop (mean ± std. dev. of 7 runs, 10000 loops each)\n"
     ]
    }
   ],
   "source": [
    "%timeit list( map(lambda k: topDown_BinomialCoefficient(10, k), range(11)) )"
   ]
  },
  {
   "cell_type": "code",
   "execution_count": 26,
   "metadata": {},
   "outputs": [
    {
     "name": "stdout",
     "output_type": "stream",
     "text": [
      "279 µs ± 5.58 µs per loop (mean ± std. dev. of 7 runs, 1000 loops each)\n"
     ]
    }
   ],
   "source": [
    "%timeit list( map(lambda k: bf_BinomialCoefficient(10, k), range(11)) )"
   ]
  }
 ],
 "metadata": {
  "kernelspec": {
   "display_name": "Python 3",
   "language": "python",
   "name": "python3"
  },
  "language_info": {
   "codemirror_mode": {
    "name": "ipython",
    "version": 3
   },
   "file_extension": ".py",
   "mimetype": "text/x-python",
   "name": "python",
   "nbconvert_exporter": "python",
   "pygments_lexer": "ipython3",
   "version": "3.6.3"
  }
 },
 "nbformat": 4,
 "nbformat_minor": 2
}
