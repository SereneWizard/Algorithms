{
 "cells": [
  {
   "cell_type": "markdown",
   "metadata": {},
   "source": [
    "# Array Combination\n",
    "\n",
    "Given an array of integers, write a function to compute the total number of combinations of integers. \n",
    "\n",
    "Example: combos({1,2,3,4,5} ) = 32\n",
    "\n",
    "combos({1,2,3}) = 8\n",
    "* {}, {1}, {2}, {3}, {1, 2}, {1,3}, {2, 3}, {1,2,3}\n",
    "* include 1 $\\to$ {1}, {1, 2}, {1, 3}, {1,2,3}\n",
    "* exlcude 1 $\\to$ {}, {2}, {3}, {2, 3}\n",
    "* result $\\to$ number of ways to include 1 + number of ways to exclude 1 =  8\n",
    "* note: number of ways to include 1 = number of ways to exclude 1\n",
    "* result $\\to$ 2 * (number of ways to include 1) = 8 or \n",
    "* result $\\to$ 2 * (number of ways to exclude 1) = 8\n",
    "\n",
    "How does exclude 1 simplify the problem ?\n",
    "* exclude 1 $\\to$ combos({2,3}). So, this has helped us to divide our larger problem into sub (or smaller) problem\n",
    "\n",
    "Base case:\n",
    "comb({}) -> 1\n",
    "\n",
    "\n",
    "\n"
   ]
  },
  {
   "cell_type": "code",
   "execution_count": 20,
   "metadata": {},
   "outputs": [],
   "source": [
    "# Brute force solution\n",
    "def bruteForceArrayCombination(arr):\n",
    "    return bf_ArrayCombination(arr, 0)\n",
    "\n",
    "def bf_ArrayCombination(arr, i):\n",
    "    if (i >= len(arr) ):\n",
    "        return 1\n",
    "    \n",
    "    exclude = bf_ArrayCombination(arr, i+1)\n",
    "    return 2 * exclude"
   ]
  },
  {
   "cell_type": "markdown",
   "metadata": {},
   "source": [
    "## Test cases"
   ]
  },
  {
   "cell_type": "code",
   "execution_count": 21,
   "metadata": {},
   "outputs": [
    {
     "data": {
      "text/plain": [
       "32"
      ]
     },
     "execution_count": 21,
     "metadata": {},
     "output_type": "execute_result"
    }
   ],
   "source": [
    "bruteForceArrayCombination([1,2,3,4,5])"
   ]
  },
  {
   "cell_type": "code",
   "execution_count": 22,
   "metadata": {},
   "outputs": [
    {
     "data": {
      "text/plain": [
       "8"
      ]
     },
     "execution_count": 22,
     "metadata": {},
     "output_type": "execute_result"
    }
   ],
   "source": [
    "bruteForceArrayCombination([1,2,3])"
   ]
  },
  {
   "cell_type": "markdown",
   "metadata": {},
   "source": [
    "If we solve this problem like this, we do not need to use memoization, since it does not have overlapping problem. "
   ]
  },
  {
   "cell_type": "code",
   "execution_count": 23,
   "metadata": {},
   "outputs": [
    {
     "data": {
      "text/plain": [
       "4"
      ]
     },
     "execution_count": 23,
     "metadata": {},
     "output_type": "execute_result"
    }
   ],
   "source": [
    "bruteForceArrayCombination([1,1])"
   ]
  },
  {
   "cell_type": "code",
   "execution_count": 24,
   "metadata": {},
   "outputs": [
    {
     "data": {
      "text/plain": [
       "2"
      ]
     },
     "execution_count": 24,
     "metadata": {},
     "output_type": "execute_result"
    }
   ],
   "source": [
    "bruteForceArrayCombination([1])"
   ]
  },
  {
   "cell_type": "code",
   "execution_count": 25,
   "metadata": {},
   "outputs": [
    {
     "data": {
      "text/plain": [
       "1"
      ]
     },
     "execution_count": 25,
     "metadata": {},
     "output_type": "execute_result"
    }
   ],
   "source": [
    "bruteForceArrayCombination([])"
   ]
  },
  {
   "cell_type": "code",
   "execution_count": 10,
   "metadata": {},
   "outputs": [
    {
     "data": {
      "text/plain": [
       "0"
      ]
     },
     "execution_count": 10,
     "metadata": {},
     "output_type": "execute_result"
    }
   ],
   "source": [
    "len([])"
   ]
  }
 ],
 "metadata": {
  "kernelspec": {
   "display_name": "Python 3",
   "language": "python",
   "name": "python3"
  },
  "language_info": {
   "codemirror_mode": {
    "name": "ipython",
    "version": 3
   },
   "file_extension": ".py",
   "mimetype": "text/x-python",
   "name": "python",
   "nbconvert_exporter": "python",
   "pygments_lexer": "ipython3",
   "version": "3.6.4"
  }
 },
 "nbformat": 4,
 "nbformat_minor": 2
}
